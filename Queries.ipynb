{
 "cells": [
  {
   "cell_type": "code",
   "execution_count": 1,
   "metadata": {
    "collapsed": false
   },
   "outputs": [],
   "source": [
    "#remmeber to pip install -r requirements.txt\n",
    "import gensim\n",
    "from gensim.models import word2vec\n",
    "#load the model\n",
    "model = word2vec.Word2Vec.load('latinvec.model')"
   ]
  },
  {
   "cell_type": "code",
   "execution_count": 2,
   "metadata": {
    "collapsed": false
   },
   "outputs": [
    {
     "data": {
      "text/plain": [
       "[('pompeius', 0.9423105716705322),\n",
       " ('pompei', 0.9176476001739502),\n",
       " ('consul', 0.9151298999786377),\n",
       " ('siciliam', 0.9095978140830994),\n",
       " ('caesaris', 0.9090651869773865),\n",
       " ('caesarem', 0.907688319683075),\n",
       " ('plebis', 0.9067991375923157),\n",
       " ('imperator', 0.902067244052887),\n",
       " ('consuli', 0.8998723030090332),\n",
       " ('antonius', 0.8991761207580566)]"
      ]
     },
     "execution_count": 2,
     "metadata": {},
     "output_type": "execute_result"
    }
   ],
   "source": [
    "#top five most similar words, all lowercase\n",
    "model.most_similar_cosmul(positive='caesar')"
   ]
  },
  {
   "cell_type": "code",
   "execution_count": 4,
   "metadata": {
    "collapsed": false
   },
   "outputs": [
    {
     "data": {
      "text/plain": [
       "0.83048498406655502"
      ]
     },
     "execution_count": 4,
     "metadata": {},
     "output_type": "execute_result"
    }
   ],
   "source": [
    "# how similar are two terms?\n",
    "# bot iulius and julius appear, I don't know how to fix that.\n",
    "model.similarity('augustus','iulius')"
   ]
  },
  {
   "cell_type": "code",
   "execution_count": 15,
   "metadata": {
    "collapsed": false
   },
   "outputs": [
    {
     "data": {
      "text/plain": [
       "[('exercitum', 0.8012385964393616),\n",
       " ('rex', 0.7942215800285339),\n",
       " ('dictatorem', 0.7937188148498535),\n",
       " ('asiam', 0.7934879660606384),\n",
       " ('imperium', 0.7915235757827759),\n",
       " ('venisset', 0.7866526246070862),\n",
       " ('galliam', 0.7842404246330261),\n",
       " ('collegam', 0.7821328043937683),\n",
       " ('regnum', 0.7794334888458252),\n",
       " ('triumphum', 0.7794215083122253)]"
      ]
     },
     "execution_count": 15,
     "metadata": {},
     "output_type": "execute_result"
    }
   ],
   "source": [
    "#you can give several positive values an several negative ones\n",
    "#the cosmul is usually a better result but there's another operation as well\n",
    "#just pass an array of strings positive = ['','',''] and negative=['','']\n",
    "model.most_similar_cosmul(positive=['imperator','romanum'])"
   ]
  },
  {
   "cell_type": "code",
   "execution_count": 37,
   "metadata": {
    "collapsed": false
   },
   "outputs": [
    {
     "data": {
      "text/plain": [
       "[('marcellus', 0.9351851940155029),\n",
       " ('domitius', 0.9308502674102783),\n",
       " ('flaccus', 0.9295971989631653),\n",
       " ('agrippa', 0.9292423129081726),\n",
       " ('sardiniam', 0.9289276599884033),\n",
       " ('metellus', 0.9270217418670654),\n",
       " ('paulus', 0.925188422203064),\n",
       " ('fulvius', 0.9248977899551392),\n",
       " ('fabius', 0.9219650030136108),\n",
       " ('cassius', 0.9212502241134644)]"
      ]
     },
     "execution_count": 37,
     "metadata": {},
     "output_type": "execute_result"
    }
   ],
   "source": [
    "model.most_similar_cosmul(positive=['claudius','nero'])"
   ]
  },
  {
   "cell_type": "code",
   "execution_count": null,
   "metadata": {
    "collapsed": true
   },
   "outputs": [],
   "source": []
  }
 ],
 "metadata": {
  "kernelspec": {
   "display_name": "Python 2",
   "language": "python",
   "name": "python2"
  },
  "language_info": {
   "codemirror_mode": {
    "name": "ipython",
    "version": 2
   },
   "file_extension": ".py",
   "mimetype": "text/x-python",
   "name": "python",
   "nbconvert_exporter": "python",
   "pygments_lexer": "ipython2",
   "version": "2.7.11"
  }
 },
 "nbformat": 4,
 "nbformat_minor": 0
}
